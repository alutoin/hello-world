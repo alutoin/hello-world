{
  "nbformat": 4,
  "nbformat_minor": 0,
  "metadata": {
    "colab": {
      "provenance": [],
      "authorship_tag": "ABX9TyOIYwdzuPWKRqZeslcIul00",
      "include_colab_link": true
    },
    "kernelspec": {
      "name": "python3",
      "display_name": "Python 3"
    },
    "language_info": {
      "name": "python"
    }
  },
  "cells": [
    {
      "cell_type": "markdown",
      "metadata": {
        "id": "view-in-github",
        "colab_type": "text"
      },
      "source": [
        "<a href=\"https://colab.research.google.com/github/alutoin/hello-world/blob/master/turbofan.ipynb\" target=\"_parent\"><img src=\"https://colab.research.google.com/assets/colab-badge.svg\" alt=\"Open In Colab\"/></a>"
      ]
    },
    {
      "cell_type": "code",
      "execution_count": 1,
      "metadata": {
        "colab": {
          "base_uri": "https://localhost:8080/"
        },
        "id": "YiTn4M-FhM-d",
        "outputId": "39794985-83b7-4a7a-b402-ab8bf9ca7487"
      },
      "outputs": [
        {
          "output_type": "stream",
          "name": "stdout",
          "text": [
            "  % Total    % Received % Xferd  Average Speed   Time    Time     Time  Current\n",
            "                                 Dload  Upload   Total   Spent    Left  Speed\n",
            "100 11.8M  100 11.8M    0     0  32.0M      0 --:--:-- --:--:-- --:--:-- 32.0M\n",
            "Archive:  turbofan.zip\n",
            "   creating: 6. Turbofan Engine Degradation Simulation Data Set/\n",
            "  inflating: 6. Turbofan Engine Degradation Simulation Data Set/CMAPSSData.zip  \n",
            "Archive:  turbofan/CMAPSSData.zip\n",
            "  inflating: data/Damage Propagation Modeling.pdf  \n",
            "  inflating: data/readme.txt         \n",
            "  inflating: data/RUL_FD001.txt      \n",
            "  inflating: data/RUL_FD002.txt      \n",
            "  inflating: data/RUL_FD003.txt      \n",
            "  inflating: data/RUL_FD004.txt      \n",
            "  inflating: data/test_FD001.txt     \n",
            "  inflating: data/test_FD002.txt     \n",
            "  inflating: data/test_FD003.txt     \n",
            "  inflating: data/test_FD004.txt     \n",
            "  inflating: data/train_FD001.txt    \n",
            "  inflating: data/train_FD002.txt    \n",
            "  inflating: data/train_FD003.txt    \n",
            "  inflating: data/train_FD004.txt    \n"
          ]
        }
      ],
      "source": [
        "# prompt: download nasa turbofan dataset\n",
        "\n",
        "!curl https://phm-datasets.s3.amazonaws.com/NASA/6.+Turbofan+Engine+Degradation+Simulation+Data+Set.zip -o turbofan.zip\n",
        "!unzip turbofan.zip\n",
        "!rm turbofan.zip\n",
        "!mv '6. Turbofan Engine Degradation Simulation Data Set' turbofan\n",
        "!unzip turbofan/CMAPSSData.zip -d data\n",
        "!rm -rf turbofan\n"
      ]
    },
    {
      "cell_type": "code",
      "source": [
        "!ls data"
      ],
      "metadata": {
        "colab": {
          "base_uri": "https://localhost:8080/"
        },
        "id": "AfM-5VdyooXH",
        "outputId": "ea87abb4-b087-419e-9113-f11d83e8b9a9"
      },
      "execution_count": 2,
      "outputs": [
        {
          "output_type": "stream",
          "name": "stdout",
          "text": [
            "'Damage Propagation Modeling.pdf'   RUL_FD003.txt    test_FD003.txt    train_FD003.txt\n",
            " readme.txt\t\t\t    RUL_FD004.txt    test_FD004.txt    train_FD004.txt\n",
            " RUL_FD001.txt\t\t\t    test_FD001.txt   train_FD001.txt\n",
            " RUL_FD002.txt\t\t\t    test_FD002.txt   train_FD002.txt\n"
          ]
        }
      ]
    }
  ]
}